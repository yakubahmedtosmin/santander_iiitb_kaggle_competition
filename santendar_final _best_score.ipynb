{
 "cells": [
  {
   "cell_type": "markdown",
   "metadata": {},
   "source": [
    "### loading the libraries"
   ]
  },
  {
   "cell_type": "code",
   "execution_count": 1,
   "metadata": {},
   "outputs": [],
   "source": [
    "import numpy as np\n",
    "import pandas as pd\n",
    "import seaborn as sns\n",
    "from sklearn import preprocessing, ensemble\n",
    "import xgboost as xgb\n",
    "from sklearn.ensemble import AdaBoostClassifier"
   ]
  },
  {
   "cell_type": "markdown",
   "metadata": {},
   "source": [
    "#### create list for target and feature from  feature selection\n",
    "##### *during the discussion it was adviced that fecho_dato with '2015-05-28' give good prediction so we are using this column inspite reported as false in rfe* "
   ]
  },
  {
   "cell_type": "code",
   "execution_count": 2,
   "metadata": {},
   "outputs": [],
   "source": [
    "feat_col = [\"fecha_dato\",\"ind_empleado\",\"pais_residencia\",\"sexo\",\"age\", \"ind_nuevo\", \"antiguedad\", \"nomprov\", \n",
    "            \"cod_prov\", \"renta\",\"indrel\",\"segmento\",\"ncodpers\"]\n",
    "target_col = ['ind_ahor_fin_ult1','ind_aval_fin_ult1','ind_cco_fin_ult1',\n",
    "              'ind_cder_fin_ult1','ind_cno_fin_ult1','ind_ctju_fin_ult1',\n",
    "                'ind_ctma_fin_ult1','ind_ctop_fin_ult1','ind_ctpp_fin_ult1',\n",
    "              'ind_deco_fin_ult1','ind_deme_fin_ult1','ind_dela_fin_ult1',\n",
    "              'ind_ecue_fin_ult1','ind_fond_fin_ult1','ind_hip_fin_ult1',\n",
    "              'ind_plan_fin_ult1','ind_pres_fin_ult1','ind_reca_fin_ult1',\n",
    "              'ind_tjcr_fin_ult1','ind_valo_fin_ult1','ind_viv_fin_ult1',\n",
    "              'ind_nomina_ult1','ind_nom_pens_ult1','ind_recibo_ult1']"
   ]
  },
  {
   "cell_type": "markdown",
   "metadata": {},
   "source": [
    "#### load the data set with features columns"
   ]
  },
  {
   "cell_type": "code",
   "execution_count": 3,
   "metadata": {},
   "outputs": [
    {
     "name": "stderr",
     "output_type": "stream",
     "text": [
      "/opt/conda/lib/python3.7/site-packages/IPython/core/interactiveshell.py:3063: DtypeWarning: Columns (5,8) have mixed types.Specify dtype option on import or set low_memory=False.\n",
      "  interactivity=interactivity, compiler=compiler, result=result)\n"
     ]
    }
   ],
   "source": [
    "train_1 = pd.read_csv(\"../input/santander-pr/train.csv\", usecols=feat_col)\n",
    "test = pd.read_csv(\"../input/santander-pr/test.csv\", usecols=feat_col)"
   ]
  },
  {
   "cell_type": "code",
   "execution_count": 4,
   "metadata": {},
   "outputs": [
    {
     "data": {
      "text/plain": [
       "20"
      ]
     },
     "execution_count": 4,
     "metadata": {},
     "output_type": "execute_result"
    }
   ],
   "source": [
    "import gc\n",
    "gc.collect()"
   ]
  },
  {
   "cell_type": "markdown",
   "metadata": {},
   "source": [
    "#### basic preprocessing and missing value imputation"
   ]
  },
  {
   "cell_type": "code",
   "execution_count": 5,
   "metadata": {},
   "outputs": [
    {
     "data": {
      "text/plain": [
       "20"
      ]
     },
     "execution_count": 5,
     "metadata": {},
     "output_type": "execute_result"
    }
   ],
   "source": [
    "train=train_1[(train_1['fecha_dato'] == '2015-05-28')]\n",
    "gc.collect()"
   ]
  },
  {
   "cell_type": "code",
   "execution_count": 6,
   "metadata": {},
   "outputs": [
    {
     "data": {
      "text/html": [
       "<div>\n",
       "<style scoped>\n",
       "    .dataframe tbody tr th:only-of-type {\n",
       "        vertical-align: middle;\n",
       "    }\n",
       "\n",
       "    .dataframe tbody tr th {\n",
       "        vertical-align: top;\n",
       "    }\n",
       "\n",
       "    .dataframe thead th {\n",
       "        text-align: right;\n",
       "    }\n",
       "</style>\n",
       "<table border=\"1\" class=\"dataframe\">\n",
       "  <thead>\n",
       "    <tr style=\"text-align: right;\">\n",
       "      <th></th>\n",
       "      <th>fecha_dato</th>\n",
       "      <th>ncodpers</th>\n",
       "      <th>ind_empleado</th>\n",
       "      <th>pais_residencia</th>\n",
       "      <th>sexo</th>\n",
       "      <th>age</th>\n",
       "      <th>ind_nuevo</th>\n",
       "      <th>antiguedad</th>\n",
       "      <th>indrel</th>\n",
       "      <th>cod_prov</th>\n",
       "      <th>nomprov</th>\n",
       "      <th>renta</th>\n",
       "      <th>segmento</th>\n",
       "    </tr>\n",
       "  </thead>\n",
       "  <tbody>\n",
       "    <tr>\n",
       "      <th>2512427</th>\n",
       "      <td>2015-05-28</td>\n",
       "      <td>1061260</td>\n",
       "      <td>N</td>\n",
       "      <td>ES</td>\n",
       "      <td>H</td>\n",
       "      <td>24</td>\n",
       "      <td>0.0</td>\n",
       "      <td>34</td>\n",
       "      <td>1.0</td>\n",
       "      <td>28.0</td>\n",
       "      <td>MADRID</td>\n",
       "      <td>396426.42</td>\n",
       "      <td>03 - UNIVERSITARIO</td>\n",
       "    </tr>\n",
       "    <tr>\n",
       "      <th>2512428</th>\n",
       "      <td>2015-05-28</td>\n",
       "      <td>1061283</td>\n",
       "      <td>N</td>\n",
       "      <td>ES</td>\n",
       "      <td>H</td>\n",
       "      <td>22</td>\n",
       "      <td>0.0</td>\n",
       "      <td>34</td>\n",
       "      <td>1.0</td>\n",
       "      <td>28.0</td>\n",
       "      <td>MADRID</td>\n",
       "      <td>155917.08</td>\n",
       "      <td>03 - UNIVERSITARIO</td>\n",
       "    </tr>\n",
       "    <tr>\n",
       "      <th>2512429</th>\n",
       "      <td>2015-05-28</td>\n",
       "      <td>1061284</td>\n",
       "      <td>N</td>\n",
       "      <td>ES</td>\n",
       "      <td>H</td>\n",
       "      <td>24</td>\n",
       "      <td>0.0</td>\n",
       "      <td>34</td>\n",
       "      <td>1.0</td>\n",
       "      <td>36.0</td>\n",
       "      <td>PONTEVEDRA</td>\n",
       "      <td>NaN</td>\n",
       "      <td>03 - UNIVERSITARIO</td>\n",
       "    </tr>\n",
       "    <tr>\n",
       "      <th>2512430</th>\n",
       "      <td>2015-05-28</td>\n",
       "      <td>1061336</td>\n",
       "      <td>N</td>\n",
       "      <td>ES</td>\n",
       "      <td>H</td>\n",
       "      <td>23</td>\n",
       "      <td>0.0</td>\n",
       "      <td>34</td>\n",
       "      <td>1.0</td>\n",
       "      <td>27.0</td>\n",
       "      <td>LUGO</td>\n",
       "      <td>66804.60</td>\n",
       "      <td>03 - UNIVERSITARIO</td>\n",
       "    </tr>\n",
       "    <tr>\n",
       "      <th>2512431</th>\n",
       "      <td>2015-05-28</td>\n",
       "      <td>1061286</td>\n",
       "      <td>N</td>\n",
       "      <td>ES</td>\n",
       "      <td>V</td>\n",
       "      <td>29</td>\n",
       "      <td>0.0</td>\n",
       "      <td>34</td>\n",
       "      <td>1.0</td>\n",
       "      <td>41.0</td>\n",
       "      <td>SEVILLA</td>\n",
       "      <td>106102.68</td>\n",
       "      <td>03 - UNIVERSITARIO</td>\n",
       "    </tr>\n",
       "    <tr>\n",
       "      <th>...</th>\n",
       "      <td>...</td>\n",
       "      <td>...</td>\n",
       "      <td>...</td>\n",
       "      <td>...</td>\n",
       "      <td>...</td>\n",
       "      <td>...</td>\n",
       "      <td>...</td>\n",
       "      <td>...</td>\n",
       "      <td>...</td>\n",
       "      <td>...</td>\n",
       "      <td>...</td>\n",
       "      <td>...</td>\n",
       "      <td>...</td>\n",
       "    </tr>\n",
       "    <tr>\n",
       "      <th>3144379</th>\n",
       "      <td>2015-05-28</td>\n",
       "      <td>547712</td>\n",
       "      <td>N</td>\n",
       "      <td>ES</td>\n",
       "      <td>V</td>\n",
       "      <td>48</td>\n",
       "      <td>0.0</td>\n",
       "      <td>119</td>\n",
       "      <td>1.0</td>\n",
       "      <td>20.0</td>\n",
       "      <td>GIPUZKOA</td>\n",
       "      <td>NaN</td>\n",
       "      <td>02 - PARTICULARES</td>\n",
       "    </tr>\n",
       "    <tr>\n",
       "      <th>3144380</th>\n",
       "      <td>2015-05-28</td>\n",
       "      <td>547691</td>\n",
       "      <td>N</td>\n",
       "      <td>ES</td>\n",
       "      <td>H</td>\n",
       "      <td>36</td>\n",
       "      <td>0.0</td>\n",
       "      <td>119</td>\n",
       "      <td>1.0</td>\n",
       "      <td>11.0</td>\n",
       "      <td>CADIZ</td>\n",
       "      <td>90132.09</td>\n",
       "      <td>02 - PARTICULARES</td>\n",
       "    </tr>\n",
       "    <tr>\n",
       "      <th>3144381</th>\n",
       "      <td>2015-05-28</td>\n",
       "      <td>1399490</td>\n",
       "      <td>N</td>\n",
       "      <td>ES</td>\n",
       "      <td>H</td>\n",
       "      <td>2</td>\n",
       "      <td>1.0</td>\n",
       "      <td>2</td>\n",
       "      <td>1.0</td>\n",
       "      <td>47.0</td>\n",
       "      <td>VALLADOLID</td>\n",
       "      <td>130692.45</td>\n",
       "      <td>02 - PARTICULARES</td>\n",
       "    </tr>\n",
       "    <tr>\n",
       "      <th>3144382</th>\n",
       "      <td>2015-05-28</td>\n",
       "      <td>15889</td>\n",
       "      <td>F</td>\n",
       "      <td>ES</td>\n",
       "      <td>V</td>\n",
       "      <td>56</td>\n",
       "      <td>0.0</td>\n",
       "      <td>245</td>\n",
       "      <td>1.0</td>\n",
       "      <td>28.0</td>\n",
       "      <td>MADRID</td>\n",
       "      <td>326124.90</td>\n",
       "      <td>01 - TOP</td>\n",
       "    </tr>\n",
       "    <tr>\n",
       "      <th>3144383</th>\n",
       "      <td>2015-05-28</td>\n",
       "      <td>15890</td>\n",
       "      <td>A</td>\n",
       "      <td>ES</td>\n",
       "      <td>V</td>\n",
       "      <td>62</td>\n",
       "      <td>0.0</td>\n",
       "      <td>246</td>\n",
       "      <td>1.0</td>\n",
       "      <td>28.0</td>\n",
       "      <td>MADRID</td>\n",
       "      <td>71461.20</td>\n",
       "      <td>02 - PARTICULARES</td>\n",
       "    </tr>\n",
       "  </tbody>\n",
       "</table>\n",
       "<p>631957 rows × 13 columns</p>\n",
       "</div>"
      ],
      "text/plain": [
       "         fecha_dato  ncodpers ind_empleado pais_residencia sexo  age  \\\n",
       "2512427  2015-05-28   1061260            N              ES    H   24   \n",
       "2512428  2015-05-28   1061283            N              ES    H   22   \n",
       "2512429  2015-05-28   1061284            N              ES    H   24   \n",
       "2512430  2015-05-28   1061336            N              ES    H   23   \n",
       "2512431  2015-05-28   1061286            N              ES    V   29   \n",
       "...             ...       ...          ...             ...  ...  ...   \n",
       "3144379  2015-05-28    547712            N              ES    V   48   \n",
       "3144380  2015-05-28    547691            N              ES    H   36   \n",
       "3144381  2015-05-28   1399490            N              ES    H    2   \n",
       "3144382  2015-05-28     15889            F              ES    V   56   \n",
       "3144383  2015-05-28     15890            A              ES    V   62   \n",
       "\n",
       "         ind_nuevo antiguedad  indrel  cod_prov     nomprov      renta  \\\n",
       "2512427        0.0         34     1.0      28.0      MADRID  396426.42   \n",
       "2512428        0.0         34     1.0      28.0      MADRID  155917.08   \n",
       "2512429        0.0         34     1.0      36.0  PONTEVEDRA        NaN   \n",
       "2512430        0.0         34     1.0      27.0        LUGO   66804.60   \n",
       "2512431        0.0         34     1.0      41.0     SEVILLA  106102.68   \n",
       "...            ...        ...     ...       ...         ...        ...   \n",
       "3144379        0.0        119     1.0      20.0    GIPUZKOA        NaN   \n",
       "3144380        0.0        119     1.0      11.0       CADIZ   90132.09   \n",
       "3144381        1.0          2     1.0      47.0  VALLADOLID  130692.45   \n",
       "3144382        0.0        245     1.0      28.0      MADRID  326124.90   \n",
       "3144383        0.0        246     1.0      28.0      MADRID   71461.20   \n",
       "\n",
       "                   segmento  \n",
       "2512427  03 - UNIVERSITARIO  \n",
       "2512428  03 - UNIVERSITARIO  \n",
       "2512429  03 - UNIVERSITARIO  \n",
       "2512430  03 - UNIVERSITARIO  \n",
       "2512431  03 - UNIVERSITARIO  \n",
       "...                     ...  \n",
       "3144379   02 - PARTICULARES  \n",
       "3144380   02 - PARTICULARES  \n",
       "3144381   02 - PARTICULARES  \n",
       "3144382            01 - TOP  \n",
       "3144383   02 - PARTICULARES  \n",
       "\n",
       "[631957 rows x 13 columns]"
      ]
     },
     "execution_count": 6,
     "metadata": {},
     "output_type": "execute_result"
    }
   ],
   "source": [
    "train"
   ]
  },
  {
   "cell_type": "code",
   "execution_count": 7,
   "metadata": {},
   "outputs": [],
   "source": [
    "del train_1"
   ]
  },
  {
   "cell_type": "code",
   "execution_count": 8,
   "metadata": {},
   "outputs": [
    {
     "data": {
      "text/plain": [
       "40"
      ]
     },
     "execution_count": 8,
     "metadata": {},
     "output_type": "execute_result"
    }
   ],
   "source": [
    "gc.collect()"
   ]
  },
  {
   "cell_type": "markdown",
   "metadata": {},
   "source": [
    "#### Dimension of the dataset"
   ]
  },
  {
   "cell_type": "code",
   "execution_count": 9,
   "metadata": {},
   "outputs": [
    {
     "name": "stdout",
     "output_type": "stream",
     "text": [
      "(631957, 13)\n",
      "(931453, 13)\n"
     ]
    }
   ],
   "source": [
    "print(train.shape)\n",
    "print(test.shape)"
   ]
  },
  {
   "cell_type": "code",
   "execution_count": 10,
   "metadata": {},
   "outputs": [
    {
     "data": {
      "text/plain": [
       "fecha_dato              0\n",
       "ncodpers                0\n",
       "ind_empleado         3597\n",
       "pais_residencia      3597\n",
       "sexo                 3600\n",
       "age                     0\n",
       "ind_nuevo            3597\n",
       "antiguedad              0\n",
       "indrel               3597\n",
       "cod_prov             7275\n",
       "nomprov              7275\n",
       "renta              109919\n",
       "segmento             3619\n",
       "dtype: int64"
      ]
     },
     "execution_count": 10,
     "metadata": {},
     "output_type": "execute_result"
    }
   ],
   "source": [
    "train.isnull().sum()"
   ]
  },
  {
   "cell_type": "markdown",
   "metadata": {},
   "source": [
    "#### As we are using XgBOOST so according to the alogoithm we have to fill the missing values with zero"
   ]
  },
  {
   "cell_type": "code",
   "execution_count": 11,
   "metadata": {},
   "outputs": [],
   "source": [
    "train.fillna(0,inplace=True)"
   ]
  },
  {
   "cell_type": "code",
   "execution_count": 12,
   "metadata": {},
   "outputs": [],
   "source": [
    "train[\"renta\"]   = pd.to_numeric(train[\"renta\"], errors=\"coerce\")\n",
    "test[\"renta\"]   = pd.to_numeric(test[\"renta\"], errors=\"coerce\")"
   ]
  },
  {
   "cell_type": "code",
   "execution_count": 13,
   "metadata": {},
   "outputs": [],
   "source": [
    "test.fillna(0,inplace=True)"
   ]
  },
  {
   "cell_type": "code",
   "execution_count": 14,
   "metadata": {},
   "outputs": [
    {
     "data": {
      "text/html": [
       "<div>\n",
       "<style scoped>\n",
       "    .dataframe tbody tr th:only-of-type {\n",
       "        vertical-align: middle;\n",
       "    }\n",
       "\n",
       "    .dataframe tbody tr th {\n",
       "        vertical-align: top;\n",
       "    }\n",
       "\n",
       "    .dataframe thead th {\n",
       "        text-align: right;\n",
       "    }\n",
       "</style>\n",
       "<table border=\"1\" class=\"dataframe\">\n",
       "  <thead>\n",
       "    <tr style=\"text-align: right;\">\n",
       "      <th></th>\n",
       "      <th>fecha_dato</th>\n",
       "      <th>ncodpers</th>\n",
       "      <th>ind_empleado</th>\n",
       "      <th>pais_residencia</th>\n",
       "      <th>sexo</th>\n",
       "      <th>age</th>\n",
       "      <th>ind_nuevo</th>\n",
       "      <th>antiguedad</th>\n",
       "      <th>indrel</th>\n",
       "      <th>cod_prov</th>\n",
       "      <th>nomprov</th>\n",
       "      <th>renta</th>\n",
       "      <th>segmento</th>\n",
       "    </tr>\n",
       "  </thead>\n",
       "  <tbody>\n",
       "    <tr>\n",
       "      <th>0</th>\n",
       "      <td>2016-05-28</td>\n",
       "      <td>657640</td>\n",
       "      <td>N</td>\n",
       "      <td>ES</td>\n",
       "      <td>H</td>\n",
       "      <td>68</td>\n",
       "      <td>0.0</td>\n",
       "      <td>114</td>\n",
       "      <td>1.0</td>\n",
       "      <td>28.0</td>\n",
       "      <td>MADRID</td>\n",
       "      <td>147347.97</td>\n",
       "      <td>02 - PARTICULARES</td>\n",
       "    </tr>\n",
       "    <tr>\n",
       "      <th>1</th>\n",
       "      <td>2016-05-28</td>\n",
       "      <td>657788</td>\n",
       "      <td>N</td>\n",
       "      <td>ES</td>\n",
       "      <td>H</td>\n",
       "      <td>42</td>\n",
       "      <td>0.0</td>\n",
       "      <td>114</td>\n",
       "      <td>1.0</td>\n",
       "      <td>28.0</td>\n",
       "      <td>MADRID</td>\n",
       "      <td>132559.35</td>\n",
       "      <td>02 - PARTICULARES</td>\n",
       "    </tr>\n",
       "    <tr>\n",
       "      <th>2</th>\n",
       "      <td>2016-05-28</td>\n",
       "      <td>657795</td>\n",
       "      <td>N</td>\n",
       "      <td>ES</td>\n",
       "      <td>V</td>\n",
       "      <td>44</td>\n",
       "      <td>0.0</td>\n",
       "      <td>114</td>\n",
       "      <td>1.0</td>\n",
       "      <td>26.0</td>\n",
       "      <td>RIOJA, LA</td>\n",
       "      <td>81399.57</td>\n",
       "      <td>02 - PARTICULARES</td>\n",
       "    </tr>\n",
       "    <tr>\n",
       "      <th>3</th>\n",
       "      <td>2016-05-28</td>\n",
       "      <td>657790</td>\n",
       "      <td>N</td>\n",
       "      <td>ES</td>\n",
       "      <td>V</td>\n",
       "      <td>42</td>\n",
       "      <td>0.0</td>\n",
       "      <td>114</td>\n",
       "      <td>1.0</td>\n",
       "      <td>48.0</td>\n",
       "      <td>BIZKAIA</td>\n",
       "      <td>0.00</td>\n",
       "      <td>02 - PARTICULARES</td>\n",
       "    </tr>\n",
       "    <tr>\n",
       "      <th>4</th>\n",
       "      <td>2016-05-28</td>\n",
       "      <td>657794</td>\n",
       "      <td>N</td>\n",
       "      <td>ES</td>\n",
       "      <td>H</td>\n",
       "      <td>49</td>\n",
       "      <td>0.0</td>\n",
       "      <td>114</td>\n",
       "      <td>1.0</td>\n",
       "      <td>8.0</td>\n",
       "      <td>BARCELONA</td>\n",
       "      <td>102189.00</td>\n",
       "      <td>01 - TOP</td>\n",
       "    </tr>\n",
       "    <tr>\n",
       "      <th>...</th>\n",
       "      <td>...</td>\n",
       "      <td>...</td>\n",
       "      <td>...</td>\n",
       "      <td>...</td>\n",
       "      <td>...</td>\n",
       "      <td>...</td>\n",
       "      <td>...</td>\n",
       "      <td>...</td>\n",
       "      <td>...</td>\n",
       "      <td>...</td>\n",
       "      <td>...</td>\n",
       "      <td>...</td>\n",
       "      <td>...</td>\n",
       "    </tr>\n",
       "    <tr>\n",
       "      <th>931448</th>\n",
       "      <td>2016-05-28</td>\n",
       "      <td>1166765</td>\n",
       "      <td>N</td>\n",
       "      <td>ES</td>\n",
       "      <td>V</td>\n",
       "      <td>22</td>\n",
       "      <td>0.0</td>\n",
       "      <td>33</td>\n",
       "      <td>1.0</td>\n",
       "      <td>50.0</td>\n",
       "      <td>ZARAGOZA</td>\n",
       "      <td>43912.17</td>\n",
       "      <td>03 - UNIVERSITARIO</td>\n",
       "    </tr>\n",
       "    <tr>\n",
       "      <th>931449</th>\n",
       "      <td>2016-05-28</td>\n",
       "      <td>1166764</td>\n",
       "      <td>N</td>\n",
       "      <td>ES</td>\n",
       "      <td>V</td>\n",
       "      <td>23</td>\n",
       "      <td>0.0</td>\n",
       "      <td>33</td>\n",
       "      <td>1.0</td>\n",
       "      <td>26.0</td>\n",
       "      <td>RIOJA, LA</td>\n",
       "      <td>23334.99</td>\n",
       "      <td>03 - UNIVERSITARIO</td>\n",
       "    </tr>\n",
       "    <tr>\n",
       "      <th>931450</th>\n",
       "      <td>2016-05-28</td>\n",
       "      <td>1166763</td>\n",
       "      <td>N</td>\n",
       "      <td>ES</td>\n",
       "      <td>H</td>\n",
       "      <td>47</td>\n",
       "      <td>0.0</td>\n",
       "      <td>33</td>\n",
       "      <td>1.0</td>\n",
       "      <td>50.0</td>\n",
       "      <td>ZARAGOZA</td>\n",
       "      <td>0.00</td>\n",
       "      <td>02 - PARTICULARES</td>\n",
       "    </tr>\n",
       "    <tr>\n",
       "      <th>931451</th>\n",
       "      <td>2016-05-28</td>\n",
       "      <td>1166789</td>\n",
       "      <td>N</td>\n",
       "      <td>ES</td>\n",
       "      <td>H</td>\n",
       "      <td>22</td>\n",
       "      <td>0.0</td>\n",
       "      <td>33</td>\n",
       "      <td>1.0</td>\n",
       "      <td>50.0</td>\n",
       "      <td>ZARAGOZA</td>\n",
       "      <td>199592.82</td>\n",
       "      <td>03 - UNIVERSITARIO</td>\n",
       "    </tr>\n",
       "    <tr>\n",
       "      <th>931452</th>\n",
       "      <td>2016-05-28</td>\n",
       "      <td>1550586</td>\n",
       "      <td>N</td>\n",
       "      <td>ES</td>\n",
       "      <td>H</td>\n",
       "      <td>37</td>\n",
       "      <td>1.0</td>\n",
       "      <td>0</td>\n",
       "      <td>1.0</td>\n",
       "      <td>28.0</td>\n",
       "      <td>MADRID</td>\n",
       "      <td>0.00</td>\n",
       "      <td>0</td>\n",
       "    </tr>\n",
       "  </tbody>\n",
       "</table>\n",
       "<p>931453 rows × 13 columns</p>\n",
       "</div>"
      ],
      "text/plain": [
       "        fecha_dato  ncodpers ind_empleado pais_residencia sexo  age  \\\n",
       "0       2016-05-28    657640            N              ES    H   68   \n",
       "1       2016-05-28    657788            N              ES    H   42   \n",
       "2       2016-05-28    657795            N              ES    V   44   \n",
       "3       2016-05-28    657790            N              ES    V   42   \n",
       "4       2016-05-28    657794            N              ES    H   49   \n",
       "...            ...       ...          ...             ...  ...  ...   \n",
       "931448  2016-05-28   1166765            N              ES    V   22   \n",
       "931449  2016-05-28   1166764            N              ES    V   23   \n",
       "931450  2016-05-28   1166763            N              ES    H   47   \n",
       "931451  2016-05-28   1166789            N              ES    H   22   \n",
       "931452  2016-05-28   1550586            N              ES    H   37   \n",
       "\n",
       "        ind_nuevo  antiguedad  indrel  cod_prov    nomprov      renta  \\\n",
       "0             0.0         114     1.0      28.0     MADRID  147347.97   \n",
       "1             0.0         114     1.0      28.0     MADRID  132559.35   \n",
       "2             0.0         114     1.0      26.0  RIOJA, LA   81399.57   \n",
       "3             0.0         114     1.0      48.0    BIZKAIA       0.00   \n",
       "4             0.0         114     1.0       8.0  BARCELONA  102189.00   \n",
       "...           ...         ...     ...       ...        ...        ...   \n",
       "931448        0.0          33     1.0      50.0   ZARAGOZA   43912.17   \n",
       "931449        0.0          33     1.0      26.0  RIOJA, LA   23334.99   \n",
       "931450        0.0          33     1.0      50.0   ZARAGOZA       0.00   \n",
       "931451        0.0          33     1.0      50.0   ZARAGOZA  199592.82   \n",
       "931452        1.0           0     1.0      28.0     MADRID       0.00   \n",
       "\n",
       "                  segmento  \n",
       "0        02 - PARTICULARES  \n",
       "1        02 - PARTICULARES  \n",
       "2        02 - PARTICULARES  \n",
       "3        02 - PARTICULARES  \n",
       "4                 01 - TOP  \n",
       "...                    ...  \n",
       "931448  03 - UNIVERSITARIO  \n",
       "931449  03 - UNIVERSITARIO  \n",
       "931450   02 - PARTICULARES  \n",
       "931451  03 - UNIVERSITARIO  \n",
       "931452                   0  \n",
       "\n",
       "[931453 rows x 13 columns]"
      ]
     },
     "execution_count": 14,
     "metadata": {},
     "output_type": "execute_result"
    }
   ],
   "source": [
    "test"
   ]
  },
  {
   "cell_type": "markdown",
   "metadata": {},
   "source": [
    "#### change the type and replacing the out liers for better data processing"
   ]
  },
  {
   "cell_type": "code",
   "execution_count": 15,
   "metadata": {},
   "outputs": [],
   "source": [
    "train[\"age\"]   = pd.to_numeric(train[\"age\"], errors=\"coerce\")\n",
    "test[\"age\"]   = pd.to_numeric(test[\"age\"], errors=\"coerce\")\n",
    "train['antiguedad'].replace('     NA',np.nan,inplace=True)\n",
    "train['antiguedad'].replace('-999999',np.nan,inplace=True)\n",
    "train['antiguedad'].replace(-999999,np.nan,inplace=True)\n",
    "train.antiguedad = pd.to_numeric(train.antiguedad, errors='coerce')\n",
    "train.antiguedad = train.antiguedad.astype('float16')\n",
    "\n",
    "test['antiguedad'].replace('     NA',np.nan,inplace=True)\n",
    "test['antiguedad'].replace('-999999',np.nan,inplace=True)\n",
    "test['antiguedad'].replace(-999999,np.nan,inplace=True)\n",
    "test.antiguedad = pd.to_numeric(test.antiguedad, errors='coerce')\n",
    "test.antiguedad = test.antiguedad.astype('float16')\n",
    "train.cod_prov = pd.to_numeric(train.cod_prov, errors='coerce')\n",
    "train.cod_prov = train.cod_prov.astype('float16')\n",
    "\n",
    "test.cod_prov = pd.to_numeric(test.cod_prov, errors='coerce')\n",
    "test.cod_prov = test.cod_prov.astype('float16')"
   ]
  },
  {
   "cell_type": "code",
   "execution_count": 18,
   "metadata": {},
   "outputs": [
    {
     "name": "stdout",
     "output_type": "stream",
     "text": [
      "(631957, 13)\n"
     ]
    }
   ],
   "source": [
    "print(train.shape)"
   ]
  },
  {
   "cell_type": "code",
   "execution_count": 19,
   "metadata": {},
   "outputs": [
    {
     "data": {
      "text/plain": [
       "fecha_dato            0\n",
       "ncodpers              0\n",
       "ind_empleado          0\n",
       "pais_residencia       0\n",
       "sexo                  0\n",
       "age                3597\n",
       "ind_nuevo             0\n",
       "antiguedad         3599\n",
       "indrel                0\n",
       "cod_prov              0\n",
       "nomprov               0\n",
       "renta                 0\n",
       "segmento              0\n",
       "dtype: int64"
      ]
     },
     "execution_count": 19,
     "metadata": {},
     "output_type": "execute_result"
    }
   ],
   "source": [
    "train.isnull().sum()"
   ]
  },
  {
   "cell_type": "code",
   "execution_count": 20,
   "metadata": {},
   "outputs": [],
   "source": [
    "train.fillna(0,inplace=True)\n",
    "test.fillna(0,inplace=True)"
   ]
  },
  {
   "cell_type": "code",
   "execution_count": 21,
   "metadata": {},
   "outputs": [
    {
     "data": {
      "text/plain": [
       "fecha_dato         0\n",
       "ncodpers           0\n",
       "ind_empleado       0\n",
       "pais_residencia    0\n",
       "sexo               0\n",
       "age                0\n",
       "ind_nuevo          0\n",
       "antiguedad         0\n",
       "indrel             0\n",
       "cod_prov           0\n",
       "nomprov            0\n",
       "renta              0\n",
       "segmento           0\n",
       "dtype: int64"
      ]
     },
     "execution_count": 21,
     "metadata": {},
     "output_type": "execute_result"
    }
   ],
   "source": [
    "train.isnull().sum()"
   ]
  },
  {
   "cell_type": "code",
   "execution_count": 22,
   "metadata": {},
   "outputs": [
    {
     "data": {
      "text/plain": [
       "02 - PARTICULARES     368666\n",
       "03 - UNIVERSITARIO    227714\n",
       "01 - TOP               31958\n",
       "0                       3619\n",
       "Name: segmento, dtype: int64"
      ]
     },
     "execution_count": 22,
     "metadata": {},
     "output_type": "execute_result"
    }
   ],
   "source": [
    "train.segmento.value_counts()"
   ]
  },
  {
   "cell_type": "code",
   "execution_count": 23,
   "metadata": {},
   "outputs": [
    {
     "data": {
      "text/plain": [
       "fecha_dato         0\n",
       "ncodpers           0\n",
       "ind_empleado       0\n",
       "pais_residencia    0\n",
       "sexo               0\n",
       "age                0\n",
       "ind_nuevo          0\n",
       "antiguedad         0\n",
       "indrel             0\n",
       "cod_prov           0\n",
       "nomprov            0\n",
       "renta              0\n",
       "segmento           0\n",
       "dtype: int64"
      ]
     },
     "execution_count": 23,
     "metadata": {},
     "output_type": "execute_result"
    }
   ],
   "source": [
    "train.isnull().sum()"
   ]
  },
  {
   "cell_type": "code",
   "execution_count": 24,
   "metadata": {
    "scrolled": true
   },
   "outputs": [
    {
     "name": "stdout",
     "output_type": "stream",
     "text": [
      "<class 'pandas.core.frame.DataFrame'>\n",
      "Int64Index: 631957 entries, 2512427 to 3144383\n",
      "Data columns (total 13 columns):\n",
      " #   Column           Non-Null Count   Dtype  \n",
      "---  ------           --------------   -----  \n",
      " 0   fecha_dato       631957 non-null  object \n",
      " 1   ncodpers         631957 non-null  int64  \n",
      " 2   ind_empleado     631957 non-null  object \n",
      " 3   pais_residencia  631957 non-null  object \n",
      " 4   sexo             631957 non-null  object \n",
      " 5   age              631957 non-null  float64\n",
      " 6   ind_nuevo        631957 non-null  float64\n",
      " 7   antiguedad       631957 non-null  float16\n",
      " 8   indrel           631957 non-null  float64\n",
      " 9   cod_prov         631957 non-null  float16\n",
      " 10  nomprov          631957 non-null  object \n",
      " 11  renta            631957 non-null  float64\n",
      " 12  segmento         631957 non-null  object \n",
      "dtypes: float16(2), float64(4), int64(1), object(6)\n",
      "memory usage: 60.3+ MB\n"
     ]
    }
   ],
   "source": [
    "train.info()"
   ]
  },
  {
   "cell_type": "markdown",
   "metadata": {},
   "source": [
    "#### create a list to label encode the object values"
   ]
  },
  {
   "cell_type": "code",
   "execution_count": 25,
   "metadata": {},
   "outputs": [],
   "source": [
    "lisobj = []\n",
    "for ind, col in enumerate(train.columns):\n",
    "    if train[col].dtype == \"object\":\n",
    "        lisobj.append(col)"
   ]
  },
  {
   "cell_type": "code",
   "execution_count": 26,
   "metadata": {},
   "outputs": [
    {
     "data": {
      "text/plain": [
       "['fecha_dato',\n",
       " 'ind_empleado',\n",
       " 'pais_residencia',\n",
       " 'sexo',\n",
       " 'nomprov',\n",
       " 'segmento']"
      ]
     },
     "execution_count": 26,
     "metadata": {},
     "output_type": "execute_result"
    }
   ],
   "source": [
    "lisobj"
   ]
  },
  {
   "cell_type": "markdown",
   "metadata": {},
   "source": [
    "#### label encoding "
   ]
  },
  {
   "cell_type": "code",
   "execution_count": 27,
   "metadata": {},
   "outputs": [],
   "source": [
    "from sklearn.preprocessing import LabelEncoder\n",
    "from sklearn.compose import make_column_transformer"
   ]
  },
  {
   "cell_type": "code",
   "execution_count": 29,
   "metadata": {},
   "outputs": [],
   "source": [
    "le = LabelEncoder()"
   ]
  },
  {
   "cell_type": "code",
   "execution_count": 30,
   "metadata": {},
   "outputs": [],
   "source": [
    "for i in lisobj:\n",
    "    train[i]=train[i].astype('str')\n",
    "    train[i]=le.fit_transform(train[i])"
   ]
  },
  {
   "cell_type": "code",
   "execution_count": 31,
   "metadata": {},
   "outputs": [],
   "source": [
    "for i in lisobj:\n",
    "    test[i]=test[i].astype('str')\n",
    "    test[i]=le.fit_transform(test[i])"
   ]
  },
  {
   "cell_type": "code",
   "execution_count": 32,
   "metadata": {},
   "outputs": [
    {
     "data": {
      "text/plain": [
       "1438"
      ]
     },
     "execution_count": 32,
     "metadata": {},
     "output_type": "execute_result"
    }
   ],
   "source": [
    "import gc\n",
    "gc.collect()"
   ]
  },
  {
   "cell_type": "code",
   "execution_count": 33,
   "metadata": {},
   "outputs": [
    {
     "data": {
      "text/plain": [
       "(12715856, 26)"
      ]
     },
     "execution_count": 33,
     "metadata": {},
     "output_type": "execute_result"
    }
   ],
   "source": [
    "train_Y = pd.read_csv(\"../input/santander-pr/train.csv\", usecols=['ncodpers','fecha_dato']+target_col)\n",
    "train_Y.shape"
   ]
  },
  {
   "cell_type": "code",
   "execution_count": 34,
   "metadata": {},
   "outputs": [
    {
     "data": {
      "text/plain": [
       "20"
      ]
     },
     "execution_count": 34,
     "metadata": {},
     "output_type": "execute_result"
    }
   ],
   "source": [
    "train_Y=train_Y[train_Y['fecha_dato'] == '2015-05-28']\n",
    "train_Y.drop(columns='fecha_dato',inplace=True)\n",
    "gc.collect()"
   ]
  },
  {
   "cell_type": "code",
   "execution_count": 35,
   "metadata": {},
   "outputs": [],
   "source": [
    "train_Y.fillna(0,inplace=True)"
   ]
  },
  {
   "cell_type": "code",
   "execution_count": 36,
   "metadata": {},
   "outputs": [],
   "source": [
    "tar=[  'ind_ahor_fin_ult1', 'ind_aval_fin_ult1',\n",
    "       'ind_cco_fin_ult1', 'ind_cder_fin_ult1', 'ind_cno_fin_ult1',\n",
    "       'ind_ctju_fin_ult1', 'ind_ctma_fin_ult1', 'ind_ctop_fin_ult1',\n",
    "       'ind_ctpp_fin_ult1', 'ind_deco_fin_ult1', 'ind_deme_fin_ult1',\n",
    "       'ind_dela_fin_ult1', 'ind_ecue_fin_ult1', 'ind_fond_fin_ult1',\n",
    "       'ind_hip_fin_ult1', 'ind_plan_fin_ult1', 'ind_pres_fin_ult1',\n",
    "       'ind_reca_fin_ult1', 'ind_tjcr_fin_ult1', 'ind_valo_fin_ult1',\n",
    "       'ind_viv_fin_ult1', 'ind_nomina_ult1', 'ind_nom_pens_ult1',\n",
    "       'ind_recibo_ult1']"
   ]
  },
  {
   "cell_type": "markdown",
   "metadata": {},
   "source": [
    "## model building and prediction\n",
    "\n",
    "#### model build with XGBoost\n",
    "#### *for loops’ to train the model against each target feature using train dataset and predict the same using test dataset*"
   ]
  },
  {
   "cell_type": "code",
   "execution_count": 37,
   "metadata": {},
   "outputs": [],
   "source": [
    "prob=[]\n",
    "for i in tar:\n",
    "    clf = xgb.XGBClassifier(max_depth=12, learning_rate = 0.05, \n",
    "                 subsample = 0.7, colsample_bytree = 0.7, n_estimators=70,\n",
    "                 colsample_bylevel= 0.7, min_child_weight = 5,\n",
    "               nthread=4)\n",
    "    clf.fit(train,train_Y[i])\n",
    "    y=clf.predict(test)\n",
    "    prob.append(clf.predict_proba(test)[:,1])\n",
    "    clf=0\n",
    "    undersampled_data = 0\n",
    "    result = 0\n",
    "    gc.collect()"
   ]
  },
  {
   "cell_type": "code",
   "execution_count": 38,
   "metadata": {},
   "outputs": [
    {
     "data": {
      "text/plain": [
       "24"
      ]
     },
     "execution_count": 38,
     "metadata": {},
     "output_type": "execute_result"
    }
   ],
   "source": [
    "len(prob)"
   ]
  },
  {
   "cell_type": "code",
   "execution_count": 39,
   "metadata": {},
   "outputs": [
    {
     "data": {
      "text/plain": [
       "40"
      ]
     },
     "execution_count": 39,
     "metadata": {},
     "output_type": "execute_result"
    }
   ],
   "source": [
    "gc.collect()"
   ]
  },
  {
   "cell_type": "code",
   "execution_count": 40,
   "metadata": {},
   "outputs": [],
   "source": [
    "preds = np.array(prob)[:,:].T"
   ]
  },
  {
   "cell_type": "code",
   "execution_count": null,
   "metadata": {},
   "outputs": [],
   "source": []
  },
  {
   "cell_type": "code",
   "execution_count": 41,
   "metadata": {},
   "outputs": [
    {
     "data": {
      "text/plain": [
       "0"
      ]
     },
     "execution_count": 41,
     "metadata": {},
     "output_type": "execute_result"
    }
   ],
   "source": [
    "train_Y = pd.read_csv(\"../input/santander-pr/train.csv\", usecols=['ncodpers','fecha_dato']+target_col)\n",
    "train_Y=train_Y[train_Y['fecha_dato'] == '2016-04-28']\n",
    "train_Y.drop(columns='fecha_dato',inplace=True)\n",
    "gc.collect()"
   ]
  },
  {
   "cell_type": "markdown",
   "metadata": {},
   "source": [
    "### *separate the target features into two groups based on their last month data being ‘0’ or ‘1’*"
   ]
  },
  {
   "cell_type": "code",
   "execution_count": 42,
   "metadata": {},
   "outputs": [],
   "source": [
    "last_instance_df =  train_Y\n",
    "cust_dict = {}\n",
    "cust_undict= {}\n",
    "target_cols = np.array(target_col)\n",
    "for ind, row in last_instance_df.iterrows():\n",
    "    cust = row['ncodpers']\n",
    "    used_products = set(target_cols[np.array(row[1:])==1])\n",
    "    unused_products = set(target_cols[np.array(row[1:])==0])\n",
    "    cust_dict[cust] = used_products\n",
    "    cust_undict[cust] = unused_products\n",
    "del (last_instance_df)"
   ]
  },
  {
   "cell_type": "markdown",
   "metadata": {},
   "source": [
    "#### *prediction*"
   ]
  },
  {
   "cell_type": "code",
   "execution_count": 43,
   "metadata": {},
   "outputs": [],
   "source": [
    "final_1 = np.argsort(preds, axis=1)\n",
    "final_2 = np.fliplr(final_1)\n",
    "test_id = np.array(pd.read_csv(\"../input/santander-pr/test.csv\", usecols=['ncodpers'])['ncodpers'])\n",
    "final_preds = []\n",
    "for ind, pred in enumerate(final_2):\n",
    "    temp_dict={}\n",
    "    #print(\"--------------------------------------\")\n",
    "    cust = test_id[ind]\n",
    "    top_products = target_cols[pred]\n",
    "    drop_products = target_cols[pred[::-1]]\n",
    "    used_products = cust_dict.get(cust,[])\n",
    "    unused_products = cust_undict.get(cust,[])\n",
    "    new_top_products = []\n",
    "    new_drop_products = []\n",
    "    product_col = []\n",
    "    pred_col = []\n",
    "    use_unuse = []\n",
    "    diffrence = []\n",
    "    rank = []\n",
    "    # customers after index 928274 are new and \n",
    "    #thus do not have previous month data to compare the probablities\n",
    "    # to compare to the target variables of the previous month\n",
    "    # thus we process their probabilities differently\n",
    "    if ind >= 928274:                   \n",
    "        counter = 0\n",
    "        for product in drop_products: \n",
    "            if product not in unused_products:\n",
    "                diffrence.append(1 - preds[ind][pred[::-1][counter]])\n",
    "                new_top_products.append(product)\n",
    "            counter += 1\n",
    "        df = pd.DataFrame()\n",
    "        df['col_1'] = new_top_products\n",
    "        df['col_2'] = diffrence\n",
    "        new_top_products = df.sort_values('col_2', ascending = False).col_1.head().to_list()\n",
    "    #\n",
    "    else:\n",
    "        #we separate the target features into two groups \n",
    "        #based on their last month data being ‘0’ or ‘1’ \n",
    "        counter = 0\n",
    "        for product in drop_products:\n",
    "            if product not in unused_products:\n",
    "                #for all the target features segmented into the ‘1’ category the resultant \n",
    "                #probability (of being ‘1’) of that feature given by \n",
    "                #model is subtracted to 1 (giving probability of being ‘0’ i.e. dropping product). \n",
    "                diffrence.append(1 - preds[ind][pred[::-1][counter]])\n",
    "                new_top_products.append(product)\n",
    "            counter += 1\n",
    "        counter = 0\n",
    "        for product in top_products: \n",
    "            if product not in used_products:\n",
    "                diffrence.append(preds[ind][pred[counter]])\n",
    "                new_top_products.append(product)\n",
    "            counter += 1\n",
    "        #all the probabilities are compared and the top 5 features with highest probability\n",
    "        #(of changing) are given as output prediction for that customer. \n",
    "\n",
    "        df = pd.DataFrame()\n",
    "        df['col_1'] = new_top_products  \n",
    "        df['col_2'] = diffrence\n",
    "        new_top_products = df.sort_values('col_2', ascending = False).col_1.head().to_list()    \n",
    "    final_preds.append(\" \".join(new_top_products))\n",
    "out_df = pd.DataFrame({'ncodpers':test_id, 'changed':final_preds})\n",
    "out_df.to_csv('sub_prev_m4.csv', index=False)"
   ]
  },
  {
   "cell_type": "code",
   "execution_count": null,
   "metadata": {},
   "outputs": [],
   "source": []
  }
 ],
 "metadata": {
  "kernelspec": {
   "display_name": "Python 3",
   "language": "python",
   "name": "python3"
  },
  "language_info": {
   "codemirror_mode": {
    "name": "ipython",
    "version": 3
   },
   "file_extension": ".py",
   "mimetype": "text/x-python",
   "name": "python",
   "nbconvert_exporter": "python",
   "pygments_lexer": "ipython3",
   "version": "3.8.3"
  }
 },
 "nbformat": 4,
 "nbformat_minor": 4
}
