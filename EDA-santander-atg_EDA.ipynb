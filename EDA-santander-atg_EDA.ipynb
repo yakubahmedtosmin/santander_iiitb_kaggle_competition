{
 "cells": [
  {
   "cell_type": "code",
   "execution_count": 1,
   "metadata": {
    "_cell_guid": "b1076dfc-b9ad-4769-8c92-a6c4dae69d19",
    "_uuid": "8f2839f25d086af736a60e9eeb907d3b93b6e0e5"
   },
   "outputs": [],
   "source": [
    "# This Python 3 environment comes with many helpful analytics libraries installed\n",
    "# It is defined by the kaggle/python Docker image: https://github.com/kaggle/docker-python\n",
    "# For example, here's several helpful packages to load\n",
    "\n",
    "import numpy as np # linear algebra\n",
    "import pandas as pd # data processing, CSV file I/O (e.g. pd.read_csv)\n",
    "\n",
    "# Input data files are available in the read-only \"../input/\" directory\n",
    "# For example, running this (by clicking run or pressing Shift+Enter) will list all files under the input directory\n",
    "\n",
    "import os\n",
    "for dirname, _, filenames in os.walk('/kaggle/input'):\n",
    "    for filename in filenames:\n",
    "        print(os.path.join(dirname, filename))\n",
    "\n",
    "# You can write up to 5GB to the current directory (/kaggle/working/) that gets preserved as output when you create a version using \"Save & Run All\" \n",
    "# You can also write temporary files to /kaggle/temp/, but they won't be saved outside of the current session"
   ]
  },
  {
   "cell_type": "markdown",
   "metadata": {},
   "source": [
    "**Importing the necessary libraries**"
   ]
  },
  {
   "cell_type": "code",
   "execution_count": 2,
   "metadata": {},
   "outputs": [
    {
     "name": "stdout",
     "output_type": "stream",
     "text": [
      "Requirement already satisfied: matplotlib in /home/yakub/anaconda3/lib/python3.8/site-packages (3.2.2)\n",
      "Requirement already satisfied: numpy>=1.11 in /home/yakub/anaconda3/lib/python3.8/site-packages (from matplotlib) (1.18.5)\n",
      "Requirement already satisfied: kiwisolver>=1.0.1 in /home/yakub/anaconda3/lib/python3.8/site-packages (from matplotlib) (1.2.0)\n",
      "Requirement already satisfied: cycler>=0.10 in /home/yakub/anaconda3/lib/python3.8/site-packages (from matplotlib) (0.10.0)\n",
      "Requirement already satisfied: pyparsing!=2.0.4,!=2.1.2,!=2.1.6,>=2.0.1 in /home/yakub/anaconda3/lib/python3.8/site-packages (from matplotlib) (2.4.7)\n",
      "Requirement already satisfied: python-dateutil>=2.1 in /home/yakub/anaconda3/lib/python3.8/site-packages (from matplotlib) (2.8.1)\n",
      "Requirement already satisfied: six in /home/yakub/anaconda3/lib/python3.8/site-packages (from cycler>=0.10->matplotlib) (1.15.0)\n"
     ]
    }
   ],
   "source": [
    "!pip install matplotlib\n",
    "import seaborn as sns\n",
    "import matplotlib.pyplot as plt\n",
    "sns.set_style(\"darkgrid\")\n",
    "plt.style.use(\"fivethirtyeight\")"
   ]
  },
  {
   "cell_type": "markdown",
   "metadata": {},
   "source": [
    "1. Loading the datasets"
   ]
  },
  {
   "cell_type": "code",
   "execution_count": null,
   "metadata": {
    "_cell_guid": "79c7e3d0-c299-4dcb-8224-4455121ee9b0",
    "_uuid": "d629ff2d2480ee46fbb7e2d37f6b5fab8052498a"
   },
   "outputs": [],
   "source": [
    "train=pd.read_csv('train.csv')\n",
    "#test=pd.read_csv('/kaggle/input/santander-pr/test.csv')"
   ]
  },
  {
   "cell_type": "code",
   "execution_count": null,
   "metadata": {},
   "outputs": [],
   "source": [
    "train.shape"
   ]
  },
  {
   "cell_type": "markdown",
   "metadata": {},
   "source": [
    "**Random selcetion of approx 10% of the samples**"
   ]
  },
  {
   "cell_type": "code",
   "execution_count": null,
   "metadata": {},
   "outputs": [],
   "source": [
    "train_01 = train.sample(n = 1000000)"
   ]
  },
  {
   "cell_type": "code",
   "execution_count": null,
   "metadata": {},
   "outputs": [],
   "source": [
    "import gc#to decrease RAM\n",
    "del(train)\n",
    "#train\n",
    "gc.collect()"
   ]
  },
  {
   "cell_type": "code",
   "execution_count": null,
   "metadata": {},
   "outputs": [],
   "source": [
    "train_01.shape"
   ]
  },
  {
   "cell_type": "code",
   "execution_count": null,
   "metadata": {},
   "outputs": [],
   "source": [
    "train_01.isnull().sum()"
   ]
  },
  {
   "cell_type": "code",
   "execution_count": null,
   "metadata": {},
   "outputs": [],
   "source": [
    "train_01.info()"
   ]
  },
  {
   "cell_type": "markdown",
   "metadata": {},
   "source": [
    "**Printinf the unique values of all the columns**"
   ]
  },
  {
   "cell_type": "code",
   "execution_count": null,
   "metadata": {},
   "outputs": [],
   "source": [
    "for col in train_01:\n",
    "    print(\"_________________________________________________________\")\n",
    "    print(col)\n",
    "    print(train_01[col].dtype)\n",
    "    print(train_01[col].unique())\n"
   ]
  },
  {
   "cell_type": "markdown",
   "metadata": {},
   "source": [
    "**Data cleaning**"
   ]
  },
  {
   "cell_type": "markdown",
   "metadata": {},
   "source": [
    "**Conversion of the types to reduce the memory and replacement of unrelated info using np.nan**"
   ]
  },
  {
   "cell_type": "code",
   "execution_count": null,
   "metadata": {},
   "outputs": [],
   "source": [
    "train_01['age'].replace(' NA',np.nan,inplace=True)"
   ]
  },
  {
   "cell_type": "code",
   "execution_count": null,
   "metadata": {},
   "outputs": [],
   "source": [
    "train_01['age'] = train_01['age'].astype('float16')"
   ]
  },
  {
   "cell_type": "code",
   "execution_count": null,
   "metadata": {},
   "outputs": [],
   "source": [
    "train_01['age'] = pd.to_numeric(train_01['age'], errors='coerce')"
   ]
  },
  {
   "cell_type": "code",
   "execution_count": null,
   "metadata": {},
   "outputs": [],
   "source": [
    "train_01['antiguedad'].replace('     NA',np.nan,inplace=True)\n",
    "train_01['antiguedad'].replace('-999999',np.nan,inplace=True)\n",
    "train_01['antiguedad'].replace(-999999,np.nan,inplace=True)\n",
    "train_01.antiguedad = pd.to_numeric(train_01.antiguedad, errors='coerce')\n",
    "train_01.antiguedad = train_01.antiguedad.astype('float16')"
   ]
  },
  {
   "cell_type": "code",
   "execution_count": null,
   "metadata": {},
   "outputs": [],
   "source": [
    "train_01.indrel_1mes.replace('P',5.0, inplace = True)\n",
    "train_01.indrel_1mes = pd.to_numeric(train_01.indrel_1mes, errors='coerce')\n",
    "train_01.indrel_1mes = train_01.indrel_1mes.astype('float16')"
   ]
  },
  {
   "cell_type": "code",
   "execution_count": null,
   "metadata": {},
   "outputs": [],
   "source": [
    "train_01.indrel = train_01.indrel.astype('float16')"
   ]
  },
  {
   "cell_type": "code",
   "execution_count": null,
   "metadata": {},
   "outputs": [],
   "source": [
    "train_01.tipodom = train_01.tipodom.astype('float16')\n",
    "train_01.cod_prov = train_01.cod_prov.astype('float16')\n",
    "train_01.ind_actividad_cliente = train_01.ind_actividad_cliente.astype('float16')\n",
    "train_01.ind_nuevo = train_01.ind_nuevo.astype('float16')"
   ]
  },
  {
   "cell_type": "code",
   "execution_count": null,
   "metadata": {},
   "outputs": [],
   "source": [
    "train_01.segmento.replace('02 - PARTICULARES',2.0,inplace=True)\n",
    "train_01.segmento.replace('03 - UNIVERSITARIO',3.0,inplace=True)\n",
    "train_01.segmento.replace('01 - TOP',1.0,inplace=True)\n",
    "train_01.segmento = pd.to_numeric(train_01.segmento, errors='coerce')\n",
    "train_01.segmento = train_01.segmento.astype('float16')\n"
   ]
  },
  {
   "cell_type": "code",
   "execution_count": null,
   "metadata": {},
   "outputs": [],
   "source": [
    "train_01"
   ]
  },
  {
   "cell_type": "code",
   "execution_count": null,
   "metadata": {},
   "outputs": [],
   "source": [
    "train_01.iloc[:,24:]"
   ]
  },
  {
   "cell_type": "code",
   "execution_count": null,
   "metadata": {},
   "outputs": [],
   "source": [
    "gc.collect()"
   ]
  },
  {
   "cell_type": "markdown",
   "metadata": {},
   "source": [
    "**Changing the dtypes of the columns to decrease memory usage**"
   ]
  },
  {
   "cell_type": "code",
   "execution_count": null,
   "metadata": {},
   "outputs": [],
   "source": [
    "for col in train_01.iloc[:,24:]:\n",
    "    \n",
    "    train_01[col] = pd.to_numeric(train_01[col], errors='coerce')\n",
    "    \n",
    "    if train_01[col].isnull().sum() > 0:\n",
    "        train_01[col] = train_01[col].astype('float16')\n",
    "    \n",
    "    else:     \n",
    "        train_01[col] = train_01[col].astype('int8', errors = 'ignore')\n",
    "\n",
    "\n",
    "train_01.iloc[:,24:].info()"
   ]
  },
  {
   "cell_type": "code",
   "execution_count": null,
   "metadata": {},
   "outputs": [],
   "source": [
    "train_01.head()"
   ]
  },
  {
   "cell_type": "code",
   "execution_count": null,
   "metadata": {},
   "outputs": [],
   "source": [
    "for col in train_01:\n",
    "    print(\"_________________________________________________________\")\n",
    "    print(col)\n",
    "    print(train_01[col].dtype)\n",
    "    print(train_01[col].unique())\n"
   ]
  },
  {
   "cell_type": "code",
   "execution_count": null,
   "metadata": {},
   "outputs": [],
   "source": [
    "train_01.columns"
   ]
  },
  {
   "cell_type": "code",
   "execution_count": null,
   "metadata": {},
   "outputs": [],
   "source": [
    "x = train_01.set_index(['ncodpers','fecha_dato' ])\n",
    "x.sort_index(inplace= True)\n",
    "x.head(20)\n"
   ]
  },
  {
   "cell_type": "code",
   "execution_count": null,
   "metadata": {},
   "outputs": [],
   "source": [
    "x.describe().style.background_gradient(cmap='Reds')"
   ]
  },
  {
   "cell_type": "markdown",
   "metadata": {},
   "source": [
    "**Checking the top 10 provinces and the channels with most number of customers**"
   ]
  },
  {
   "cell_type": "code",
   "execution_count": null,
   "metadata": {},
   "outputs": [],
   "source": [
    "plt.figure(figsize=(20,10))\n",
    "plt.subplot(2,2,1)\n",
    "plt.title('Top 10 channels used by the customers to join')\n",
    "sns.countplot('canal_entrada',data=train_01,order=pd.value_counts(train_01['canal_entrada']).iloc[:10].index);\n",
    "plt.subplot(2,2,2)\n",
    "plt.title('Top 10 provinces with most number of customers')\n",
    "r=sns.countplot('nomprov',data=train_01,order=pd.value_counts(train_01['nomprov']).iloc[:10].index)\n",
    "r.set_xticklabels(r.get_xticklabels(),rotation=90);"
   ]
  },
  {
   "cell_type": "markdown",
   "metadata": {},
   "source": [
    "**Number of customers based on different categorical data**"
   ]
  },
  {
   "cell_type": "code",
   "execution_count": null,
   "metadata": {},
   "outputs": [],
   "source": [
    "fig = plt.figure(figsize=(20,12))\n",
    "\n",
    "cols=['ind_empleado','sexo','tiprel_1mes','indresi','indext','indfall']\n",
    "plt.subplot(231)\n",
    "plt.title('Type of employee', fontsize=14)\n",
    "sns.countplot(cols[0],data=train_01)\n",
    "\n",
    "plt.subplot(2,3,2)\n",
    "plt.title('Male vs Female customer', fontsize=14)\n",
    "sns.countplot(cols[1],data=train_01)\n",
    "\n",
    "plt.subplot(233)\n",
    "plt.title('Relationship of the customer at the beginning of the month', fontsize=14)\n",
    "sns.countplot(cols[2],data=train_01)\n",
    "\n",
    "plt.subplot(2,3,4)\n",
    "plt.title('Residence of the customer in the country or not', fontsize=14)\n",
    "sns.countplot(cols[3],data=train_01)\n",
    "\n",
    "plt.subplot(2,3,5)\n",
    "plt.title('Birth country same as bank country', fontsize=14)\n",
    "sns.countplot(cols[4],data=train_01)\n",
    "\n",
    "plt.subplot(2,3,6)\n",
    "plt.title('Alive or Dead', fontsize=14)\n",
    "sns.countplot(cols[5],data=train_01)\n",
    "\n",
    "plt.show()"
   ]
  },
  {
   "cell_type": "markdown",
   "metadata": {},
   "source": [
    "The above plot indicates the following:\n",
    "1. The unemployed customers are more in number compared to other employed customers\n",
    "2. The number of male customers are more than female customers\n",
    "3. There are lot of inactive customers than active customers\n",
    "4. The residence of the many customers are same as those where the bank is\n",
    "5. There are a lot of foreign customers (birth country not the same as where the bank is).\n",
    "6. A majority of the customers are alive"
   ]
  },
  {
   "cell_type": "code",
   "execution_count": null,
   "metadata": {},
   "outputs": [],
   "source": [
    "import plotly.express as px\n",
    "values=train_01['segmento'].value_counts()\n",
    "#names=train_01['segmento'].value_counts().index\n",
    "names=[\"Individuals\",'College_graduates','VIP']\n",
    "px.pie(train_01,values=values,names=names,title='Type of account holders')"
   ]
  },
  {
   "cell_type": "markdown",
   "metadata": {},
   "source": [
    "**Distribution of customers across provinces**"
   ]
  },
  {
   "cell_type": "code",
   "execution_count": null,
   "metadata": {},
   "outputs": [],
   "source": [
    "a=train_01.groupby(by = [\"nomprov\",\"fecha_dato\"]).nunique().ncodpers.reset_index()\n",
    "a = a[(a.nomprov != \"MADRID\") & (a.nomprov !=  \"BARCELONA\") &(a.nomprov != \"VALENCIA\") &(a.nomprov != \"SEVILLA\")]"
   ]
  },
  {
   "cell_type": "code",
   "execution_count": null,
   "metadata": {},
   "outputs": [],
   "source": [
    "plt.figure(figsize=(20,10))\n",
    "sns.lineplot(x='fecha_dato',y='ncodpers',data=a,hue='nomprov',palette='Set1');\n"
   ]
  },
  {
   "cell_type": "code",
   "execution_count": null,
   "metadata": {},
   "outputs": [],
   "source": [
    "fig = px.histogram(a, x=\"fecha_dato\", y=\"ncodpers\", color=\"nomprov\",hover_data=a.columns)\n",
    "fig.show()"
   ]
  },
  {
   "cell_type": "markdown",
   "metadata": {},
   "source": [
    "**Renta vs Features**"
   ]
  },
  {
   "cell_type": "code",
   "execution_count": null,
   "metadata": {},
   "outputs": [],
   "source": [
    "fig = px.scatter(train_01, x=\"nomprov\", y=\"renta\", color='segmento')\n",
    "fig.show()"
   ]
  },
  {
   "cell_type": "markdown",
   "metadata": {},
   "source": [
    "**Distribution of type of bank account holders on the basis of age for each province**"
   ]
  },
  {
   "cell_type": "code",
   "execution_count": null,
   "metadata": {},
   "outputs": [],
   "source": [
    "fig = px.scatter(train_01, x=\"nomprov\", y=\"age\", color='segmento')\n",
    "fig.show()"
   ]
  },
  {
   "cell_type": "markdown",
   "metadata": {},
   "source": [
    "**Slicing data at a gap of four months for periodic data analysis**"
   ]
  },
  {
   "cell_type": "code",
   "execution_count": null,
   "metadata": {},
   "outputs": [],
   "source": [
    "q1 = train_01[train_01.fecha_dato == \"2015-04-28\"]\n",
    "q2 = train_01[train_01.fecha_dato == \"2015-08-28\"]\n",
    "q3 = train_01[train_01.fecha_dato == \"2015-12-28\"]\n",
    "q4 = train_01[train_01.fecha_dato == \"2016-04-28\"]\n",
    "q_all = pd.concat([q1,q2,q3,q4])\n",
    "q_all"
   ]
  },
  {
   "cell_type": "code",
   "execution_count": null,
   "metadata": {},
   "outputs": [],
   "source": [
    "fig = px.histogram(q_all[q_all.nomprov != \"MADRID\"], x=\"nomprov\", y=\"ncodpers\", color='fecha_dato')\n",
    "fig.show()"
   ]
  },
  {
   "cell_type": "markdown",
   "metadata": {},
   "source": [
    "**Distribution of target values across all provinces at a gap of four months**"
   ]
  },
  {
   "cell_type": "code",
   "execution_count": null,
   "metadata": {},
   "outputs": [],
   "source": [
    "for col in q_all.iloc[:,24:]:\n",
    "    fig = px.histogram(q_all[q_all.nomprov != \"MADRID\"], x=\"nomprov\", y=col, color='fecha_dato', title = col)\n",
    "    fig.show()"
   ]
  },
  {
   "cell_type": "code",
   "execution_count": null,
   "metadata": {},
   "outputs": [],
   "source": [
    "x = train_01.groupby(by = \"fecha_dato\").count().reset_index()"
   ]
  },
  {
   "cell_type": "markdown",
   "metadata": {},
   "source": [
    "**Visualizing gains/loss of customers for each province at gap of four months**"
   ]
  },
  {
   "cell_type": "code",
   "execution_count": null,
   "metadata": {},
   "outputs": [],
   "source": [
    "tempdf = q_all.groupby(by= [\"nomprov\",\"fecha_dato\"]).ncodpers.count().reset_index()"
   ]
  },
  {
   "cell_type": "code",
   "execution_count": null,
   "metadata": {},
   "outputs": [],
   "source": [
    "tempdf = q_all.groupby(by= [\"nomprov\",\"fecha_dato\"]).ncodpers.count().reset_index()\n",
    "gain_loss = []\n",
    "\n",
    "for i in range(len(tempdf)):\n",
    "    if i > 0:\n",
    "        if tempdf.loc[i, \"nomprov\"] == tempdf.loc[i-1, \"nomprov\"]:\n",
    "            t_gain_loss = (tempdf.loc[i, \"ncodpers\"] - tempdf.loc[i-1, \"ncodpers\"])/tempdf.loc[i-1, \"ncodpers\"]\n",
    "            gain_loss.append(t_gain_loss)\n",
    "            \n",
    "        else:\n",
    "            gain_loss.append(0)\n",
    "    else:\n",
    "        gain_loss.append(0)\n",
    "tempdf[\"gain_loss\"] = gain_loss\n",
    "plt.figure(figsize= (20,30))\n",
    "sns.barplot(data =tempdf, y=\"nomprov\", x=\"gain_loss\", hue='fecha_dato');"
   ]
  },
  {
   "cell_type": "markdown",
   "metadata": {},
   "source": [
    "**Visualising gain/loss of target features across provinces at gap of four months **"
   ]
  },
  {
   "cell_type": "code",
   "execution_count": null,
   "metadata": {},
   "outputs": [],
   "source": [
    "tempdf = q_all.groupby(by= [\"nomprov\",\"fecha_dato\"]).sum().reset_index()\n",
    "\n",
    "for col in tempdf[['ind_ahor_fin_ult1', 'ind_aval_fin_ult1',\n",
    "       'ind_cco_fin_ult1', 'ind_cder_fin_ult1', 'ind_cno_fin_ult1',\n",
    "       'ind_ctju_fin_ult1', 'ind_ctma_fin_ult1', 'ind_ctop_fin_ult1',\n",
    "       'ind_ctpp_fin_ult1', 'ind_deco_fin_ult1', 'ind_deme_fin_ult1',\n",
    "       'ind_dela_fin_ult1', 'ind_ecue_fin_ult1', 'ind_fond_fin_ult1',\n",
    "       'ind_hip_fin_ult1', 'ind_plan_fin_ult1', 'ind_pres_fin_ult1',\n",
    "       'ind_reca_fin_ult1', 'ind_tjcr_fin_ult1', 'ind_valo_fin_ult1',\n",
    "       'ind_viv_fin_ult1', 'ind_nomina_ult1', 'ind_nom_pens_ult1',\n",
    "       'ind_recibo_ult1']]:\n",
    "    gain_loss = []\n",
    "\n",
    "    for i in range(len(tempdf)):\n",
    "        if i > 0:\n",
    "            if tempdf.loc[i, \"nomprov\"] == tempdf.loc[i-1, \"nomprov\"]:\n",
    "                t_gain_loss = (tempdf.loc[i, col] - tempdf.loc[i-1, col])\n",
    "                gain_loss.append(t_gain_loss)\n",
    "\n",
    "            else:\n",
    "                gain_loss.append(0)\n",
    "        else:\n",
    "            gain_loss.append(0)\n",
    "    tempdf[\"gain_loss_\"+col] = gain_loss\n",
    "    plt.figure(figsize= (20,30))\n",
    "    plt.title(\"gain_loss_\"+col)\n",
    "    sns.barplot(data =tempdf, y=\"nomprov\", x=\"gain_loss_\"+col, hue='fecha_dato');"
   ]
  },
  {
   "cell_type": "markdown",
   "metadata": {},
   "source": [
    "**Visualizing employment index with gross household income**"
   ]
  },
  {
   "cell_type": "code",
   "execution_count": null,
   "metadata": {},
   "outputs": [],
   "source": [
    "q_all.groupby(by='ind_empleado')['renta'].max()"
   ]
  },
  {
   "cell_type": "code",
   "execution_count": null,
   "metadata": {},
   "outputs": [],
   "source": [
    "\n",
    "fig = px.box(q_all, color=\"fecha_dato\", y=\"renta\", x =\"ind_empleado\")\n",
    "fig.show()"
   ]
  },
  {
   "cell_type": "code",
   "execution_count": null,
   "metadata": {},
   "outputs": [],
   "source": []
  }
 ],
 "metadata": {
  "kernelspec": {
   "display_name": "Python 3",
   "language": "python",
   "name": "python3"
  },
  "language_info": {
   "codemirror_mode": {
    "name": "ipython",
    "version": 3
   },
   "file_extension": ".py",
   "mimetype": "text/x-python",
   "name": "python",
   "nbconvert_exporter": "python",
   "pygments_lexer": "ipython3",
   "version": "3.8.3"
  }
 },
 "nbformat": 4,
 "nbformat_minor": 4
}
